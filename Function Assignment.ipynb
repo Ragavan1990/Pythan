{
 "cells": [
  {
   "cell_type": "code",
   "execution_count": 1,
   "id": "e23ea6a4-d8c7-4992-84c4-699f8489906d",
   "metadata": {},
   "outputs": [
    {
     "name": "stdout",
     "output_type": "stream",
     "text": [
      "Machine Learning\n",
      "Neural_Networks\n",
      "Vision\n",
      "Robotics\n",
      "Speech Processing\n",
      "Netural_Language_Proocesing\n"
     ]
    }
   ],
   "source": [
    "#Check Subfields lists using Function\n",
    "def subfields():\n",
    "    lists=[\"Machine Learning\",\"Neural_Networks\",\"Vision\",\"Robotics\",\"Speech Processing\",\"Netural_Language_Proocesing\"]\n",
    "    for AI in lists:\n",
    "      print(AI)\n",
    "subfields()"
   ]
  },
  {
   "cell_type": "code",
   "execution_count": 26,
   "id": "293991cc-5baa-4d20-8c2b-8735c13c4bf3",
   "metadata": {},
   "outputs": [
    {
     "name": "stdin",
     "output_type": "stream",
     "text": [
      "Enter the number: 3\n"
     ]
    },
    {
     "name": "stdout",
     "output_type": "stream",
     "text": [
      "3 is Odd number\n"
     ]
    }
   ],
   "source": [
    "#Check Odd or Even using Function\n",
    "def oddEven():\n",
    "    num=int(input(\"Enter the number:\"))\n",
    "    if num%2==0:\n",
    "        print(num,\"is Even number\")\n",
    "    else:\n",
    "        print(num,\"is Odd number\")\n",
    "oddEven()"
   ]
  },
  {
   "cell_type": "code",
   "execution_count": 112,
   "id": "85aa570d-8e49-4c98-84b9-119f467e04b5",
   "metadata": {},
   "outputs": [
    {
     "name": "stdin",
     "output_type": "stream",
     "text": [
      "Your Gender: Male\n",
      "Your age: 21\n"
     ]
    },
    {
     "name": "stdout",
     "output_type": "stream",
     "text": [
      "Male With Age of 21 is Eligible for marriage\n"
     ]
    }
   ],
   "source": [
    "# Check Marriage Elegibilty age for men and Women\n",
    "def ElegibilityForMarriage():\n",
    "    gender=input('Your Gender:')\n",
    "    age=int(input('Your age:'))\n",
    "    if (gender==\"Male\" and age>=21):\n",
    "           print(gender,\"With Age of\",age,\"is Eligible for marriage\")\n",
    "    elif(gender==\"Female\" and age>=18):\n",
    "           print(gender,\"With Age of\",age,\"is Eligible for marriage\")\n",
    "    else:\n",
    "           print(gender,\"With Age of\",age,\"is Not Eligible for marriage\")             \n",
    "ElegibilityForMarriage()"
   ]
  },
  {
   "cell_type": "code",
   "execution_count": 158,
   "id": "79847195-92e3-49c1-9b48-49be49cb0ca6",
   "metadata": {},
   "outputs": [
    {
     "name": "stdin",
     "output_type": "stream",
     "text": [
      "Your Gender: Female\n",
      "Your age: 17\n"
     ]
    },
    {
     "name": "stdout",
     "output_type": "stream",
     "text": [
      "Female With Age of 17 is Not Eligible for marriage\n"
     ]
    }
   ],
   "source": [
    "#Check Marriage Elegibilty age for men and Women\n",
    "def ElegibilityForMarriage():\n",
    "    gender=input('Your Gender:')\n",
    "    age=int(input('Your age:'))\n",
    "    if gender==\"Male\":\n",
    "        if(age<=21):\n",
    "           print(gender,\"With Age of\",age,\"is Not Eligible for marriage\")\n",
    "        else:\n",
    "           print(gender,\"With Age of\",age,\"is Eligible for marriage\")\n",
    "    else:       \n",
    "        if(age<=18):\n",
    "           print(gender,\"With Age of\",age,\"is Not Eligible for marriage\")\n",
    "        else:\n",
    "           print(gender,\"With Age of\",age,\"is Eligible for marriage\")             \n",
    "ElegibilityForMarriage()"
   ]
  },
  {
   "cell_type": "code",
   "execution_count": 126,
   "id": "f1800f97-a834-4a62-8653-2eede93eb950",
   "metadata": {},
   "outputs": [
    {
     "name": "stdin",
     "output_type": "stream",
     "text": [
      "Enter the sub1 mark: 50\n",
      "Enter the sub2 mark: 50\n",
      "Enter the sub3 mark: 50\n",
      "Enter the sub4 mark: 50\n",
      "Enter the sub5 mark: 50\n"
     ]
    },
    {
     "name": "stdout",
     "output_type": "stream",
     "text": [
      "Subject 1 Marks: 50\n",
      "Subject 2 Marks: 50\n",
      "Subject 3 Marks: 50\n",
      "Subject 4 Marks: 50\n",
      "Subject 5 Marks: 50\n",
      "Total marks of all subject: 250\n",
      "Percentage of five marks: 50.0\n"
     ]
    }
   ],
   "source": [
    "#Find the total and percent using Function\n",
    "def FindPercent():\n",
    "    sub1=int(input(\"Enter the sub1 mark:\"))\n",
    "    sub2=int(input(\"Enter the sub2 mark:\"))\n",
    "    sub3=int(input(\"Enter the sub3 mark:\"))\n",
    "    sub4=int(input(\"Enter the sub4 mark:\"))\n",
    "    sub5=int(input(\"Enter the sub5 mark:\"))\n",
    "    Total=sub1+sub2+sub3+sub4+sub5\n",
    "    Percentage=Total/5\n",
    "    print(\"Subject 1 Marks:\",sub1)\n",
    "    print(\"Subject 2 Marks:\",sub2)\n",
    "    print(\"Subject 3 Marks:\",sub3)\n",
    "    print(\"Subject 4 Marks:\",sub4)\n",
    "    print(\"Subject 5 Marks:\",sub5)\n",
    "    print(\"Total marks of all subject:\",Total)\n",
    "    print(\"Percentage of five marks:\",Percentage,)\n",
    "FindPercent()\n",
    "    "
   ]
  },
  {
   "cell_type": "code",
   "execution_count": 144,
   "id": "34a616ec-b04a-4d24-bb64-6a69b214c5eb",
   "metadata": {},
   "outputs": [
    {
     "name": "stdin",
     "output_type": "stream",
     "text": [
      "Enter the Height: 10\n",
      "Enter the breadth: 10\n"
     ]
    },
    {
     "name": "stdout",
     "output_type": "stream",
     "text": [
      "Height: 10\n",
      "Breadth: 10\n",
      "Area Formula:Height*Breadth)/2\n",
      "Area of the triangle: 50.0\n"
     ]
    },
    {
     "name": "stdin",
     "output_type": "stream",
     "text": [
      "Enter the Height1: 10\n",
      "Enter the Height2: 10\n",
      "Enter the Breadth: 10\n"
     ]
    },
    {
     "name": "stdout",
     "output_type": "stream",
     "text": [
      "Enter the Height1: 10\n",
      "Enter the Height2: 10\n",
      "Enter the Breadth1: 10\n",
      "Perimeter formula:Height1+Height2+Breadth\n",
      "Perimeter of triangle: 30\n"
     ]
    }
   ],
   "source": [
    "#Find out triangle using Function\n",
    "def triangle():\n",
    "    height=int(input(\"Enter the Height:\"))\n",
    "    breadth=int(input(\"Enter the breadth:\"))\n",
    "    print(\"Height:\",height)\n",
    "    print(\"Breadth:\",breadth)\n",
    "    print(\"Area Formula:Height*Breadth)/2\")\n",
    "    area=height*breadth/2\n",
    "    print(\"Area of the triangle:\",area)\n",
    "def triangle2():\n",
    "    height1=int(input(\"Enter the Height1:\"))\n",
    "    height2=int(input(\"Enter the Height2:\"))\n",
    "    breadh2=int(input(\"Enter the Breadth:\"))\n",
    "    print(\"Enter the Height1:\",height1)\n",
    "    print(\"Enter the Height2:\",height2)\n",
    "    print(\"Enter the Breadth1:\",breadh2)\n",
    "    perimeter=height1+height2+breadh2\n",
    "    print(\"Perimeter formula:Height1+Height2+Breadth\")\n",
    "    print(\"Perimeter of triangle:\",perimeter)\n",
    "triangle()\n",
    "triangle2()"
   ]
  },
  {
   "cell_type": "code",
   "execution_count": null,
   "id": "6a758f3c-7728-4cea-9c7a-71724bbb0492",
   "metadata": {},
   "outputs": [],
   "source": []
  }
 ],
 "metadata": {
  "kernelspec": {
   "display_name": "Python 3 (ipykernel)",
   "language": "python",
   "name": "python3"
  },
  "language_info": {
   "codemirror_mode": {
    "name": "ipython",
    "version": 3
   },
   "file_extension": ".py",
   "mimetype": "text/x-python",
   "name": "python",
   "nbconvert_exporter": "python",
   "pygments_lexer": "ipython3",
   "version": "3.12.7"
  }
 },
 "nbformat": 4,
 "nbformat_minor": 5
}
