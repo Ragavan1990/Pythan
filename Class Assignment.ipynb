{
 "cells": [
  {
   "cell_type": "code",
   "execution_count": 21,
   "id": "5361a065-3beb-4a36-80d6-a078ffa713c4",
   "metadata": {},
   "outputs": [
    {
     "name": "stdout",
     "output_type": "stream",
     "text": [
      "SubFields In AI are: \n",
      "Machine Learning\n",
      "Neural Networks\n",
      "Vision\n",
      "Robotics\n",
      "Speech Processing\n",
      "Natural Language Processing\n"
     ]
    }
   ],
   "source": [
    "#Create a class and function and list out the items in the list\n",
    "class SubfieldsINAI():\n",
    " def Subfields():\n",
    "  Lists=[\"SubFields In AI are: \",\"Machine Learning\",\"Neural Networks\",\"Vision\",\"Robotics\",\"Speech Processing\",\"Natural Language Processing\"]\n",
    "  for AI in Lists:\n",
    "    print(AI)\n",
    "SubfieldsINAI.Subfields()"
   ]
  },
  {
   "cell_type": "code",
   "execution_count": 23,
   "id": "388c93a3-fe01-4465-a11d-878d3d928236",
   "metadata": {},
   "outputs": [
    {
     "name": "stdin",
     "output_type": "stream",
     "text": [
      "Enter the value: 7\n"
     ]
    },
    {
     "name": "stdout",
     "output_type": "stream",
     "text": [
      "7 is Odd Number\n"
     ]
    }
   ],
   "source": [
    "#Check Odd or Even using Class\n",
    "class oddeven():\n",
    "  def OddEven():\n",
    "    Num=int(input(\"Enter the value:\"))\n",
    "    if(Num%2==0):\n",
    "        print(Num, \"is Even Number\")\n",
    "    else:\n",
    "        print(Num,\"is Odd Number\")\n",
    "oddeven.OddEven()"
   ]
  },
  {
   "cell_type": "code",
   "execution_count": 45,
   "id": "eae51994-deec-4df0-b3c5-f0199d972e89",
   "metadata": {},
   "outputs": [
    {
     "name": "stdin",
     "output_type": "stream",
     "text": [
      "Your Gender: Male\n",
      "Your age: 25\n"
     ]
    },
    {
     "name": "stdout",
     "output_type": "stream",
     "text": [
      "Male With Age of 25 is Eligible for marriage\n"
     ]
    }
   ],
   "source": [
    "#Check Marriage Elegibilty age for men and Women using class\n",
    "class menwomen():\n",
    "  def ElegibilityForMarriage():\n",
    "    gender=input('Your Gender:')\n",
    "    age=int(input('Your age:'))\n",
    "    if (gender==\"Male\" and age>=21):\n",
    "           print(gender,\"With Age of\",age,\"is Eligible for marriage\")\n",
    "    elif(gender==\"Female\" and age>=18):\n",
    "           print(gender,\"With Age of\",age,\"is Eligible for marriage\")\n",
    "    else:\n",
    "           print(gender,\"With Age of\",age,\"is Not Eligible for marriage\")             \n",
    "menwomen.ElegibilityForMarriage()"
   ]
  },
  {
   "cell_type": "code",
   "execution_count": 61,
   "id": "75ed81f4-0d32-45f5-b3ef-c2d82bb4d007",
   "metadata": {},
   "outputs": [
    {
     "name": "stdin",
     "output_type": "stream",
     "text": [
      "Enter the sub1 mark: 50\n",
      "Enter the sub2 mark: 50\n",
      "Enter the sub3 mark: 50\n",
      "Enter the sub4 mark: 50\n",
      "Enter the sub5 mark: 50\n"
     ]
    },
    {
     "name": "stdout",
     "output_type": "stream",
     "text": [
      "Subject 1 Marks: 50\n",
      "Subject 2 Marks: 50\n",
      "Subject 3 Marks: 50\n",
      "Subject 4 Marks: 50\n",
      "Subject 5 Marks: 50\n",
      "Total marks of all subject: 250\n",
      "Percentage of five marks: 50.0\n"
     ]
    }
   ],
   "source": [
    "#Find the total and percent using Class\n",
    "class Student():\n",
    "  def FindPercent():\n",
    "    sub1=int(input(\"Enter the sub1 mark:\"))\n",
    "    sub2=int(input(\"Enter the sub2 mark:\"))\n",
    "    sub3=int(input(\"Enter the sub3 mark:\"))\n",
    "    sub4=int(input(\"Enter the sub4 mark:\"))\n",
    "    sub5=int(input(\"Enter the sub5 mark:\"))\n",
    "    Total=sub1+sub2+sub3+sub4+sub5\n",
    "    Percentage=Total/5\n",
    "    print(\"Subject 1 Marks:\",sub1)\n",
    "    print(\"Subject 2 Marks:\",sub2)\n",
    "    print(\"Subject 3 Marks:\",sub3)\n",
    "    print(\"Subject 4 Marks:\",sub4)\n",
    "    print(\"Subject 5 Marks:\",sub5)\n",
    "    print(\"Total marks of all subject:\",Total)\n",
    "    print(\"Percentage of five marks:\",Percentage,)\n",
    "Student.FindPercent()\n",
    "    "
   ]
  },
  {
   "cell_type": "code",
   "execution_count": 59,
   "id": "c8e5c4c4-49db-4f7b-9588-180a5431e19d",
   "metadata": {},
   "outputs": [
    {
     "name": "stdin",
     "output_type": "stream",
     "text": [
      "Enter the Height: 10\n",
      "Enter the breadth: 10\n"
     ]
    },
    {
     "name": "stdout",
     "output_type": "stream",
     "text": [
      "Height: 10\n",
      "Breadth: 10\n",
      "Area Formula:Height*Breadth)/2\n",
      "Area of the triangle: 50.0\n"
     ]
    }
   ],
   "source": [
    "#Find out triangle using Class\n",
    "class triangle3():\n",
    "  def triangle1():\n",
    "    height=int(input(\"Enter the Height:\"))\n",
    "    breadth=int(input(\"Enter the breadth:\"))\n",
    "    print(\"Height:\",height)\n",
    "    print(\"Breadth:\",breadth)\n",
    "    print(\"Area Formula:Height*Breadth)/2\")\n",
    "    area=height*breadth/2\n",
    "    print(\"Area of the triangle:\",area)\n",
    "  def triangle2():\n",
    "    height1=int(input(\"Enter the Height1:\"))\n",
    "    height2=int(input(\"Enter the Height2:\"))\n",
    "    breadh2=int(input(\"Enter the Breadth:\"))\n",
    "    print(\"Enter the Height1:\",height1)\n",
    "    print(\"Enter the Height2:\",height2)\n",
    "    print(\"Enter the Breadth1:\",breadh2)\n",
    "    perimeter=height1+height2+breadh2\n",
    "    print(\"Perimeter formula:Height1+Height2+Breadth\")\n",
    "    print(\"Perimeter of triangle:\",perimeter)\n",
    "triangle3.triangle1()"
   ]
  },
  {
   "cell_type": "code",
   "execution_count": 57,
   "id": "18a4be2e-4cac-494e-a037-d64b6e5e635d",
   "metadata": {},
   "outputs": [
    {
     "name": "stdin",
     "output_type": "stream",
     "text": [
      "Enter the Height1: 10\n",
      "Enter the Height2: 10\n",
      "Enter the Breadth: 10\n"
     ]
    },
    {
     "name": "stdout",
     "output_type": "stream",
     "text": [
      "Enter the Height1: 10\n",
      "Enter the Height2: 10\n",
      "Enter the Breadth1: 10\n",
      "Perimeter formula:Height1+Height2+Breadth\n",
      "Perimeter of triangle: 30\n"
     ]
    }
   ],
   "source": [
    "triangle3.triangle2()"
   ]
  },
  {
   "cell_type": "code",
   "execution_count": null,
   "id": "59fb2b6e-2fb6-4240-9598-9b1ebbdfc38c",
   "metadata": {},
   "outputs": [],
   "source": []
  }
 ],
 "metadata": {
  "kernelspec": {
   "display_name": "Python 3 (ipykernel)",
   "language": "python",
   "name": "python3"
  },
  "language_info": {
   "codemirror_mode": {
    "name": "ipython",
    "version": 3
   },
   "file_extension": ".py",
   "mimetype": "text/x-python",
   "name": "python",
   "nbconvert_exporter": "python",
   "pygments_lexer": "ipython3",
   "version": "3.12.7"
  }
 },
 "nbformat": 4,
 "nbformat_minor": 5
}
