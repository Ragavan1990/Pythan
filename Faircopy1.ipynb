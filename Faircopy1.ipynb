{
 "cells": [
  {
   "cell_type": "code",
   "execution_count": 14,
   "id": "ba1959e2-e86c-4cba-9cee-5da575d49bc2",
   "metadata": {},
   "outputs": [],
   "source": [
    "#from filename import classname\n",
    "from MultipleFunction import Allfunction\n"
   ]
  },
  {
   "cell_type": "code",
   "execution_count": 18,
   "id": "0d4a6181-5566-4563-8d01-220ff0c5bc70",
   "metadata": {},
   "outputs": [
    {
     "name": "stdout",
     "output_type": "stream",
     "text": [
      "SubFields In AI are: \n",
      "Machine Learning\n",
      "Neural Networks\n",
      "Vision\n",
      "Robotics\n",
      "Speech Processing\n",
      "Natural Language Processing\n"
     ]
    }
   ],
   "source": [
    "Allfunction.Subfields()"
   ]
  },
  {
   "cell_type": "code",
   "execution_count": 20,
   "id": "0a1a5424-57f5-436c-ae76-849e55cb8a97",
   "metadata": {},
   "outputs": [
    {
     "name": "stdin",
     "output_type": "stream",
     "text": [
      "Enter the value: 8\n"
     ]
    },
    {
     "name": "stdout",
     "output_type": "stream",
     "text": [
      "8 is Even Number\n"
     ]
    }
   ],
   "source": [
    "Allfunction.OddEven()"
   ]
  },
  {
   "cell_type": "code",
   "execution_count": 22,
   "id": "98e791ee-b457-4e32-8314-8b17a4a98528",
   "metadata": {},
   "outputs": [
    {
     "name": "stdin",
     "output_type": "stream",
     "text": [
      "Your Gender: Male\n",
      "Your age: 24\n"
     ]
    },
    {
     "name": "stdout",
     "output_type": "stream",
     "text": [
      "Male With Age of 24 is Eligible for marriage\n"
     ]
    }
   ],
   "source": [
    "Allfunction.ElegibilityForMarriage()"
   ]
  },
  {
   "cell_type": "code",
   "execution_count": 24,
   "id": "28e0ccc5-d415-4a25-b797-e43aa74ad5fe",
   "metadata": {},
   "outputs": [
    {
     "name": "stdin",
     "output_type": "stream",
     "text": [
      "Enter the sub1 mark: 50\n",
      "Enter the sub2 mark: 50\n",
      "Enter the sub3 mark: 50\n",
      "Enter the sub4 mark: 50\n",
      "Enter the sub5 mark: 50\n"
     ]
    },
    {
     "name": "stdout",
     "output_type": "stream",
     "text": [
      "Subject 1 Marks: 50\n",
      "Subject 2 Marks: 50\n",
      "Subject 3 Marks: 50\n",
      "Subject 4 Marks: 50\n",
      "Subject 5 Marks: 50\n",
      "Total marks of all subject: 250\n",
      "Percentage of five marks: 50.0\n"
     ]
    }
   ],
   "source": [
    "Allfunction.FindPercent()"
   ]
  },
  {
   "cell_type": "code",
   "execution_count": 26,
   "id": "95ee4604-96cf-40c0-962c-d905d5f70cf9",
   "metadata": {},
   "outputs": [
    {
     "name": "stdin",
     "output_type": "stream",
     "text": [
      "Enter the Height: 10\n",
      "Enter the breadth: 10\n"
     ]
    },
    {
     "name": "stdout",
     "output_type": "stream",
     "text": [
      "Height: 10\n",
      "Breadth: 10\n",
      "Area Formula:Height*Breadth)/2\n",
      "Area of the triangle: 50.0\n"
     ]
    }
   ],
   "source": [
    "Allfunction.triangle1()"
   ]
  },
  {
   "cell_type": "code",
   "execution_count": 28,
   "id": "f4029cda-0510-46ca-9e18-e01070cf3797",
   "metadata": {},
   "outputs": [
    {
     "name": "stdin",
     "output_type": "stream",
     "text": [
      "Enter the Height1: 10\n",
      "Enter the Height2: 10\n",
      "Enter the Breadth: 10\n"
     ]
    },
    {
     "name": "stdout",
     "output_type": "stream",
     "text": [
      "Enter the Height1: 10\n",
      "Enter the Height2: 10\n",
      "Enter the Breadth1: 10\n",
      "Perimeter formula:Height1+Height2+Breadth\n",
      "Perimeter of triangle: 30\n"
     ]
    }
   ],
   "source": [
    "Allfunction.triangle2()"
   ]
  },
  {
   "cell_type": "code",
   "execution_count": null,
   "id": "674e7cab-3526-4334-9a17-0c6b62de57ee",
   "metadata": {},
   "outputs": [],
   "source": []
  }
 ],
 "metadata": {
  "kernelspec": {
   "display_name": "Python 3 (ipykernel)",
   "language": "python",
   "name": "python3"
  },
  "language_info": {
   "codemirror_mode": {
    "name": "ipython",
    "version": 3
   },
   "file_extension": ".py",
   "mimetype": "text/x-python",
   "name": "python",
   "nbconvert_exporter": "python",
   "pygments_lexer": "ipython3",
   "version": "3.12.7"
  }
 },
 "nbformat": 4,
 "nbformat_minor": 5
}
